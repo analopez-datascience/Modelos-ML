{
 "cells": [
  {
   "cell_type": "markdown",
   "id": "4f113197",
   "metadata": {},
   "source": [
    "# Modelo de Regresión Polinomial"
   ]
  },
  {
   "cell_type": "code",
   "execution_count": 11,
   "id": "f7e4e9f9",
   "metadata": {},
   "outputs": [],
   "source": [
    "import pandas as pd\n",
    "import numpy as np\n",
    "from sklearn.linear_model import LinearRegression"
   ]
  },
  {
   "cell_type": "code",
   "execution_count": 1,
   "id": "976fecf6",
   "metadata": {},
   "outputs": [
    {
     "data": {
      "text/html": [
       "<div>\n",
       "<style scoped>\n",
       "    .dataframe tbody tr th:only-of-type {\n",
       "        vertical-align: middle;\n",
       "    }\n",
       "\n",
       "    .dataframe tbody tr th {\n",
       "        vertical-align: top;\n",
       "    }\n",
       "\n",
       "    .dataframe thead th {\n",
       "        text-align: right;\n",
       "    }\n",
       "</style>\n",
       "<table border=\"1\" class=\"dataframe\">\n",
       "  <thead>\n",
       "    <tr style=\"text-align: right;\">\n",
       "      <th></th>\n",
       "      <th>TV</th>\n",
       "      <th>Radio</th>\n",
       "      <th>Newspaper</th>\n",
       "      <th>Sales</th>\n",
       "    </tr>\n",
       "  </thead>\n",
       "  <tbody>\n",
       "    <tr>\n",
       "      <th>0</th>\n",
       "      <td>230.1</td>\n",
       "      <td>37.8</td>\n",
       "      <td>69.2</td>\n",
       "      <td>22.1</td>\n",
       "    </tr>\n",
       "    <tr>\n",
       "      <th>1</th>\n",
       "      <td>44.5</td>\n",
       "      <td>39.3</td>\n",
       "      <td>45.1</td>\n",
       "      <td>10.4</td>\n",
       "    </tr>\n",
       "    <tr>\n",
       "      <th>2</th>\n",
       "      <td>17.2</td>\n",
       "      <td>45.9</td>\n",
       "      <td>69.3</td>\n",
       "      <td>9.3</td>\n",
       "    </tr>\n",
       "    <tr>\n",
       "      <th>3</th>\n",
       "      <td>151.5</td>\n",
       "      <td>41.3</td>\n",
       "      <td>58.5</td>\n",
       "      <td>18.5</td>\n",
       "    </tr>\n",
       "    <tr>\n",
       "      <th>4</th>\n",
       "      <td>180.8</td>\n",
       "      <td>10.8</td>\n",
       "      <td>58.4</td>\n",
       "      <td>12.9</td>\n",
       "    </tr>\n",
       "  </tbody>\n",
       "</table>\n",
       "</div>"
      ],
      "text/plain": [
       "      TV  Radio  Newspaper  Sales\n",
       "0  230.1   37.8       69.2   22.1\n",
       "1   44.5   39.3       45.1   10.4\n",
       "2   17.2   45.9       69.3    9.3\n",
       "3  151.5   41.3       58.5   18.5\n",
       "4  180.8   10.8       58.4   12.9"
      ]
     },
     "execution_count": 1,
     "metadata": {},
     "output_type": "execute_result"
    }
   ],
   "source": [
    "df = pd.read_csv(\"./Advertising.csv\")\n",
    "df.head()"
   ]
  },
  {
   "cell_type": "code",
   "execution_count": 2,
   "id": "3bc3462a",
   "metadata": {},
   "outputs": [
    {
     "data": {
      "text/plain": [
       "(200, 4)"
      ]
     },
     "execution_count": 2,
     "metadata": {},
     "output_type": "execute_result"
    }
   ],
   "source": [
    "df.shape"
   ]
  },
  {
   "cell_type": "code",
   "execution_count": 5,
   "id": "69a94c15",
   "metadata": {},
   "outputs": [
    {
     "name": "stdout",
     "output_type": "stream",
     "text": [
      "<class 'pandas.core.frame.DataFrame'>\n",
      "RangeIndex: 200 entries, 0 to 199\n",
      "Data columns (total 4 columns):\n",
      " #   Column     Non-Null Count  Dtype  \n",
      "---  ------     --------------  -----  \n",
      " 0   TV         200 non-null    float64\n",
      " 1   Radio      200 non-null    float64\n",
      " 2   Newspaper  200 non-null    float64\n",
      " 3   Sales      200 non-null    float64\n",
      "dtypes: float64(4)\n",
      "memory usage: 6.4 KB\n"
     ]
    }
   ],
   "source": [
    "df.info()"
   ]
  },
  {
   "cell_type": "markdown",
   "id": "635922ca",
   "metadata": {},
   "source": [
    "Dividimos el dataset en dos partes, ****"
   ]
  },
  {
   "cell_type": "code",
   "execution_count": 6,
   "id": "be3ad622",
   "metadata": {},
   "outputs": [],
   "source": [
    "X = df[['TV', 'Radio', 'Newspaper']]\n",
    "y = df.Sales"
   ]
  },
  {
   "cell_type": "code",
   "execution_count": 7,
   "id": "b0cd0a5d",
   "metadata": {},
   "outputs": [
    {
     "data": {
      "text/html": [
       "<div>\n",
       "<style scoped>\n",
       "    .dataframe tbody tr th:only-of-type {\n",
       "        vertical-align: middle;\n",
       "    }\n",
       "\n",
       "    .dataframe tbody tr th {\n",
       "        vertical-align: top;\n",
       "    }\n",
       "\n",
       "    .dataframe thead th {\n",
       "        text-align: right;\n",
       "    }\n",
       "</style>\n",
       "<table border=\"1\" class=\"dataframe\">\n",
       "  <thead>\n",
       "    <tr style=\"text-align: right;\">\n",
       "      <th></th>\n",
       "      <th>TV</th>\n",
       "      <th>Radio</th>\n",
       "      <th>Newspaper</th>\n",
       "    </tr>\n",
       "  </thead>\n",
       "  <tbody>\n",
       "    <tr>\n",
       "      <th>0</th>\n",
       "      <td>230.1</td>\n",
       "      <td>37.8</td>\n",
       "      <td>69.2</td>\n",
       "    </tr>\n",
       "    <tr>\n",
       "      <th>1</th>\n",
       "      <td>44.5</td>\n",
       "      <td>39.3</td>\n",
       "      <td>45.1</td>\n",
       "    </tr>\n",
       "    <tr>\n",
       "      <th>2</th>\n",
       "      <td>17.2</td>\n",
       "      <td>45.9</td>\n",
       "      <td>69.3</td>\n",
       "    </tr>\n",
       "    <tr>\n",
       "      <th>3</th>\n",
       "      <td>151.5</td>\n",
       "      <td>41.3</td>\n",
       "      <td>58.5</td>\n",
       "    </tr>\n",
       "    <tr>\n",
       "      <th>4</th>\n",
       "      <td>180.8</td>\n",
       "      <td>10.8</td>\n",
       "      <td>58.4</td>\n",
       "    </tr>\n",
       "  </tbody>\n",
       "</table>\n",
       "</div>"
      ],
      "text/plain": [
       "      TV  Radio  Newspaper\n",
       "0  230.1   37.8       69.2\n",
       "1   44.5   39.3       45.1\n",
       "2   17.2   45.9       69.3\n",
       "3  151.5   41.3       58.5\n",
       "4  180.8   10.8       58.4"
      ]
     },
     "execution_count": 7,
     "metadata": {},
     "output_type": "execute_result"
    }
   ],
   "source": [
    "X.head()"
   ]
  },
  {
   "cell_type": "code",
   "execution_count": 8,
   "id": "e7f47b36",
   "metadata": {},
   "outputs": [
    {
     "data": {
      "text/plain": [
       "0    22.1\n",
       "1    10.4\n",
       "2     9.3\n",
       "3    18.5\n",
       "4    12.9\n",
       "Name: Sales, dtype: float64"
      ]
     },
     "execution_count": 8,
     "metadata": {},
     "output_type": "execute_result"
    }
   ],
   "source": [
    "y.head()"
   ]
  },
  {
   "cell_type": "markdown",
   "id": "7d3bb469",
   "metadata": {},
   "source": [
    "En la primera etapa vamos a buscar un modelo simple dónde todo dependeria de la radio. "
   ]
  },
  {
   "cell_type": "code",
   "execution_count": 12,
   "id": "c2acb2de",
   "metadata": {},
   "outputs": [
    {
     "name": "stdout",
     "output_type": "stream",
     "text": [
      "[37.8 39.3 45.9 41.3 10.8 48.9 32.8 19.6  2.1  2.6  5.8 24.  35.1  7.6\n",
      " 32.9 47.7 36.6 39.6 20.5 23.9 27.7  5.1 15.9 16.9 12.6  3.5 29.3 16.7\n",
      " 27.1 16.  28.3 17.4  1.5 20.   1.4  4.1 43.8 49.4 26.7 37.7 22.3 33.4\n",
      " 27.7  8.4 25.7 22.5  9.9 41.5 15.8 11.7  3.1  9.6 41.7 46.2 28.8 49.4\n",
      " 28.1 19.2 49.6 29.5  2.  42.7 15.5 29.6 42.8  9.3 24.6 14.5 27.5 43.9\n",
      " 30.6 14.3 33.   5.7 24.6 43.7  1.6 28.5 29.9  7.7 26.7  4.1 20.3 44.5\n",
      " 43.  18.4 27.5 40.6 25.5 47.8  4.9  1.5 33.5 36.5 14.  31.6  3.5 21.\n",
      " 42.3 41.7  4.3 36.3 10.1 17.2 34.3 46.4 11.   0.3  0.4 26.9  8.2 38.\n",
      " 15.4 20.6 46.8 35.  14.3  0.8 36.9 16.  26.8 21.7  2.4 34.6 32.3 11.8\n",
      " 38.9  0.  49.  12.  39.6  2.9 27.2 33.5 38.6 47.  39.  28.9 25.9 43.9\n",
      " 17.  35.4 33.2  5.7 14.8  1.9  7.3 49.  40.3 25.8 13.9  8.4 23.3 39.7\n",
      " 21.1 11.6 43.5  1.3 36.9 18.4 18.1 35.8 18.1 36.8 14.7  3.4 37.6  5.2\n",
      " 23.6 10.6 11.6 20.9 20.1  7.1  3.4 48.9 30.2  7.8  2.3 10.   2.6  5.4\n",
      "  5.7 43.  21.3 45.1  2.1 28.7 13.9 12.1 41.1 10.8  4.1 42.  35.6  3.7\n",
      "  4.9  9.3 42.   8.6]\n"
     ]
    }
   ],
   "source": [
    "xradio = np.array(X.Radio)\n",
    "print(xradio)"
   ]
  },
  {
   "cell_type": "code",
   "execution_count": 13,
   "id": "e1f1b199",
   "metadata": {},
   "outputs": [
    {
     "name": "stdout",
     "output_type": "stream",
     "text": [
      "[[37.8]\n",
      " [39.3]\n",
      " [45.9]\n",
      " [41.3]\n",
      " [10.8]\n",
      " [48.9]\n",
      " [32.8]\n",
      " [19.6]\n",
      " [ 2.1]\n",
      " [ 2.6]\n",
      " [ 5.8]\n",
      " [24. ]\n",
      " [35.1]\n",
      " [ 7.6]\n",
      " [32.9]\n",
      " [47.7]\n",
      " [36.6]\n",
      " [39.6]\n",
      " [20.5]\n",
      " [23.9]\n",
      " [27.7]\n",
      " [ 5.1]\n",
      " [15.9]\n",
      " [16.9]\n",
      " [12.6]\n",
      " [ 3.5]\n",
      " [29.3]\n",
      " [16.7]\n",
      " [27.1]\n",
      " [16. ]\n",
      " [28.3]\n",
      " [17.4]\n",
      " [ 1.5]\n",
      " [20. ]\n",
      " [ 1.4]\n",
      " [ 4.1]\n",
      " [43.8]\n",
      " [49.4]\n",
      " [26.7]\n",
      " [37.7]\n",
      " [22.3]\n",
      " [33.4]\n",
      " [27.7]\n",
      " [ 8.4]\n",
      " [25.7]\n",
      " [22.5]\n",
      " [ 9.9]\n",
      " [41.5]\n",
      " [15.8]\n",
      " [11.7]\n",
      " [ 3.1]\n",
      " [ 9.6]\n",
      " [41.7]\n",
      " [46.2]\n",
      " [28.8]\n",
      " [49.4]\n",
      " [28.1]\n",
      " [19.2]\n",
      " [49.6]\n",
      " [29.5]\n",
      " [ 2. ]\n",
      " [42.7]\n",
      " [15.5]\n",
      " [29.6]\n",
      " [42.8]\n",
      " [ 9.3]\n",
      " [24.6]\n",
      " [14.5]\n",
      " [27.5]\n",
      " [43.9]\n",
      " [30.6]\n",
      " [14.3]\n",
      " [33. ]\n",
      " [ 5.7]\n",
      " [24.6]\n",
      " [43.7]\n",
      " [ 1.6]\n",
      " [28.5]\n",
      " [29.9]\n",
      " [ 7.7]\n",
      " [26.7]\n",
      " [ 4.1]\n",
      " [20.3]\n",
      " [44.5]\n",
      " [43. ]\n",
      " [18.4]\n",
      " [27.5]\n",
      " [40.6]\n",
      " [25.5]\n",
      " [47.8]\n",
      " [ 4.9]\n",
      " [ 1.5]\n",
      " [33.5]\n",
      " [36.5]\n",
      " [14. ]\n",
      " [31.6]\n",
      " [ 3.5]\n",
      " [21. ]\n",
      " [42.3]\n",
      " [41.7]\n",
      " [ 4.3]\n",
      " [36.3]\n",
      " [10.1]\n",
      " [17.2]\n",
      " [34.3]\n",
      " [46.4]\n",
      " [11. ]\n",
      " [ 0.3]\n",
      " [ 0.4]\n",
      " [26.9]\n",
      " [ 8.2]\n",
      " [38. ]\n",
      " [15.4]\n",
      " [20.6]\n",
      " [46.8]\n",
      " [35. ]\n",
      " [14.3]\n",
      " [ 0.8]\n",
      " [36.9]\n",
      " [16. ]\n",
      " [26.8]\n",
      " [21.7]\n",
      " [ 2.4]\n",
      " [34.6]\n",
      " [32.3]\n",
      " [11.8]\n",
      " [38.9]\n",
      " [ 0. ]\n",
      " [49. ]\n",
      " [12. ]\n",
      " [39.6]\n",
      " [ 2.9]\n",
      " [27.2]\n",
      " [33.5]\n",
      " [38.6]\n",
      " [47. ]\n",
      " [39. ]\n",
      " [28.9]\n",
      " [25.9]\n",
      " [43.9]\n",
      " [17. ]\n",
      " [35.4]\n",
      " [33.2]\n",
      " [ 5.7]\n",
      " [14.8]\n",
      " [ 1.9]\n",
      " [ 7.3]\n",
      " [49. ]\n",
      " [40.3]\n",
      " [25.8]\n",
      " [13.9]\n",
      " [ 8.4]\n",
      " [23.3]\n",
      " [39.7]\n",
      " [21.1]\n",
      " [11.6]\n",
      " [43.5]\n",
      " [ 1.3]\n",
      " [36.9]\n",
      " [18.4]\n",
      " [18.1]\n",
      " [35.8]\n",
      " [18.1]\n",
      " [36.8]\n",
      " [14.7]\n",
      " [ 3.4]\n",
      " [37.6]\n",
      " [ 5.2]\n",
      " [23.6]\n",
      " [10.6]\n",
      " [11.6]\n",
      " [20.9]\n",
      " [20.1]\n",
      " [ 7.1]\n",
      " [ 3.4]\n",
      " [48.9]\n",
      " [30.2]\n",
      " [ 7.8]\n",
      " [ 2.3]\n",
      " [10. ]\n",
      " [ 2.6]\n",
      " [ 5.4]\n",
      " [ 5.7]\n",
      " [43. ]\n",
      " [21.3]\n",
      " [45.1]\n",
      " [ 2.1]\n",
      " [28.7]\n",
      " [13.9]\n",
      " [12.1]\n",
      " [41.1]\n",
      " [10.8]\n",
      " [ 4.1]\n",
      " [42. ]\n",
      " [35.6]\n",
      " [ 3.7]\n",
      " [ 4.9]\n",
      " [ 9.3]\n",
      " [42. ]\n",
      " [ 8.6]]\n"
     ]
    }
   ],
   "source": [
    "xradio=xradio.reshape((-1, 1))\n",
    "print(xradio)"
   ]
  },
  {
   "cell_type": "code",
   "execution_count": 14,
   "id": "41a37a91",
   "metadata": {},
   "outputs": [],
   "source": [
    "model_simple = LinearRegression().fit(xradio, y)"
   ]
  },
  {
   "cell_type": "code",
   "execution_count": 15,
   "id": "cb6d80cc",
   "metadata": {},
   "outputs": [
    {
     "name": "stdout",
     "output_type": "stream",
     "text": [
      "intercept: 9.311638095158283\n",
      "slope: [0.20249578]\n"
     ]
    }
   ],
   "source": [
    "print('intercept:', model_simple.intercept_)\n",
    "print('slope:', model_simple.coef_)"
   ]
  },
  {
   "cell_type": "markdown",
   "id": "3ef35add",
   "metadata": {},
   "source": [
    "Slope es la pendiente, es decir cuantos pasos avanzo cuando subo de uno. \n",
    "Intercept cuando x es igual a 0 cual es el valor de y."
   ]
  },
  {
   "cell_type": "code",
   "execution_count": 16,
   "id": "1acd2152",
   "metadata": {},
   "outputs": [
    {
     "name": "stdout",
     "output_type": "stream",
     "text": [
      "[230.1  44.5  17.2 151.5 180.8   8.7  57.5 120.2   8.6 199.8  66.1 214.7\n",
      "  23.8  97.5 204.1 195.4  67.8 281.4  69.2 147.3 218.4 237.4  13.2 228.3\n",
      "  62.3 262.9 142.9 240.1 248.8  70.6 292.9 112.9  97.2 265.6  95.7 290.7\n",
      " 266.9  74.7  43.1 228.  202.5 177.  293.6 206.9  25.1 175.1  89.7 239.9\n",
      " 227.2  66.9 199.8 100.4 216.4 182.6 262.7 198.9   7.3 136.2 210.8 210.7\n",
      "  53.5 261.3 239.3 102.7 131.1  69.   31.5 139.3 237.4 216.8 199.1 109.8\n",
      "  26.8 129.4 213.4  16.9  27.5 120.5   5.4 116.   76.4 239.8  75.3  68.4\n",
      " 213.5 193.2  76.3 110.7  88.3 109.8 134.3  28.6 217.7 250.9 107.4 163.3\n",
      " 197.6 184.9 289.7 135.2 222.4 296.4 280.2 187.9 238.2 137.9  25.   90.4\n",
      "  13.1 255.4 225.8 241.7 175.7 209.6  78.2  75.1 139.2  76.4 125.7  19.4\n",
      " 141.3  18.8 224.  123.1 229.5  87.2   7.8  80.2 220.3  59.6   0.7 265.2\n",
      "   8.4 219.8  36.9  48.3  25.6 273.7  43.  184.9  73.4 193.7 220.5 104.6\n",
      "  96.2 140.3 240.1 243.2  38.   44.7 280.7 121.  197.6 171.3 187.8   4.1\n",
      "  93.9 149.8  11.7 131.7 172.5  85.7 188.4 163.5 117.2 234.5  17.9 206.8\n",
      " 215.4 284.3  50.  164.5  19.6 168.4 222.4 276.9 248.4 170.2 276.7 165.6\n",
      " 156.6 218.5  56.2 287.6 253.8 205.  139.5 191.1 286.   18.7  39.5  75.5\n",
      "  17.2 166.8 149.7  38.2  94.2 177.  283.6 232.1]\n"
     ]
    }
   ],
   "source": [
    "xTV = np.array(X.TV)\n",
    "print(xTV)"
   ]
  },
  {
   "cell_type": "code",
   "execution_count": 17,
   "id": "72113b72",
   "metadata": {},
   "outputs": [
    {
     "name": "stdout",
     "output_type": "stream",
     "text": [
      "[[230.1]\n",
      " [ 44.5]\n",
      " [ 17.2]\n",
      " [151.5]\n",
      " [180.8]\n",
      " [  8.7]\n",
      " [ 57.5]\n",
      " [120.2]\n",
      " [  8.6]\n",
      " [199.8]\n",
      " [ 66.1]\n",
      " [214.7]\n",
      " [ 23.8]\n",
      " [ 97.5]\n",
      " [204.1]\n",
      " [195.4]\n",
      " [ 67.8]\n",
      " [281.4]\n",
      " [ 69.2]\n",
      " [147.3]\n",
      " [218.4]\n",
      " [237.4]\n",
      " [ 13.2]\n",
      " [228.3]\n",
      " [ 62.3]\n",
      " [262.9]\n",
      " [142.9]\n",
      " [240.1]\n",
      " [248.8]\n",
      " [ 70.6]\n",
      " [292.9]\n",
      " [112.9]\n",
      " [ 97.2]\n",
      " [265.6]\n",
      " [ 95.7]\n",
      " [290.7]\n",
      " [266.9]\n",
      " [ 74.7]\n",
      " [ 43.1]\n",
      " [228. ]\n",
      " [202.5]\n",
      " [177. ]\n",
      " [293.6]\n",
      " [206.9]\n",
      " [ 25.1]\n",
      " [175.1]\n",
      " [ 89.7]\n",
      " [239.9]\n",
      " [227.2]\n",
      " [ 66.9]\n",
      " [199.8]\n",
      " [100.4]\n",
      " [216.4]\n",
      " [182.6]\n",
      " [262.7]\n",
      " [198.9]\n",
      " [  7.3]\n",
      " [136.2]\n",
      " [210.8]\n",
      " [210.7]\n",
      " [ 53.5]\n",
      " [261.3]\n",
      " [239.3]\n",
      " [102.7]\n",
      " [131.1]\n",
      " [ 69. ]\n",
      " [ 31.5]\n",
      " [139.3]\n",
      " [237.4]\n",
      " [216.8]\n",
      " [199.1]\n",
      " [109.8]\n",
      " [ 26.8]\n",
      " [129.4]\n",
      " [213.4]\n",
      " [ 16.9]\n",
      " [ 27.5]\n",
      " [120.5]\n",
      " [  5.4]\n",
      " [116. ]\n",
      " [ 76.4]\n",
      " [239.8]\n",
      " [ 75.3]\n",
      " [ 68.4]\n",
      " [213.5]\n",
      " [193.2]\n",
      " [ 76.3]\n",
      " [110.7]\n",
      " [ 88.3]\n",
      " [109.8]\n",
      " [134.3]\n",
      " [ 28.6]\n",
      " [217.7]\n",
      " [250.9]\n",
      " [107.4]\n",
      " [163.3]\n",
      " [197.6]\n",
      " [184.9]\n",
      " [289.7]\n",
      " [135.2]\n",
      " [222.4]\n",
      " [296.4]\n",
      " [280.2]\n",
      " [187.9]\n",
      " [238.2]\n",
      " [137.9]\n",
      " [ 25. ]\n",
      " [ 90.4]\n",
      " [ 13.1]\n",
      " [255.4]\n",
      " [225.8]\n",
      " [241.7]\n",
      " [175.7]\n",
      " [209.6]\n",
      " [ 78.2]\n",
      " [ 75.1]\n",
      " [139.2]\n",
      " [ 76.4]\n",
      " [125.7]\n",
      " [ 19.4]\n",
      " [141.3]\n",
      " [ 18.8]\n",
      " [224. ]\n",
      " [123.1]\n",
      " [229.5]\n",
      " [ 87.2]\n",
      " [  7.8]\n",
      " [ 80.2]\n",
      " [220.3]\n",
      " [ 59.6]\n",
      " [  0.7]\n",
      " [265.2]\n",
      " [  8.4]\n",
      " [219.8]\n",
      " [ 36.9]\n",
      " [ 48.3]\n",
      " [ 25.6]\n",
      " [273.7]\n",
      " [ 43. ]\n",
      " [184.9]\n",
      " [ 73.4]\n",
      " [193.7]\n",
      " [220.5]\n",
      " [104.6]\n",
      " [ 96.2]\n",
      " [140.3]\n",
      " [240.1]\n",
      " [243.2]\n",
      " [ 38. ]\n",
      " [ 44.7]\n",
      " [280.7]\n",
      " [121. ]\n",
      " [197.6]\n",
      " [171.3]\n",
      " [187.8]\n",
      " [  4.1]\n",
      " [ 93.9]\n",
      " [149.8]\n",
      " [ 11.7]\n",
      " [131.7]\n",
      " [172.5]\n",
      " [ 85.7]\n",
      " [188.4]\n",
      " [163.5]\n",
      " [117.2]\n",
      " [234.5]\n",
      " [ 17.9]\n",
      " [206.8]\n",
      " [215.4]\n",
      " [284.3]\n",
      " [ 50. ]\n",
      " [164.5]\n",
      " [ 19.6]\n",
      " [168.4]\n",
      " [222.4]\n",
      " [276.9]\n",
      " [248.4]\n",
      " [170.2]\n",
      " [276.7]\n",
      " [165.6]\n",
      " [156.6]\n",
      " [218.5]\n",
      " [ 56.2]\n",
      " [287.6]\n",
      " [253.8]\n",
      " [205. ]\n",
      " [139.5]\n",
      " [191.1]\n",
      " [286. ]\n",
      " [ 18.7]\n",
      " [ 39.5]\n",
      " [ 75.5]\n",
      " [ 17.2]\n",
      " [166.8]\n",
      " [149.7]\n",
      " [ 38.2]\n",
      " [ 94.2]\n",
      " [177. ]\n",
      " [283.6]\n",
      " [232.1]]\n"
     ]
    }
   ],
   "source": [
    "xTV=xTV.reshape((-1, 1))\n",
    "print(xTV)"
   ]
  },
  {
   "cell_type": "code",
   "execution_count": 18,
   "id": "da5dee68",
   "metadata": {},
   "outputs": [],
   "source": [
    "model_simple = LinearRegression().fit(xTV, y)"
   ]
  },
  {
   "cell_type": "code",
   "execution_count": 19,
   "id": "46642a02",
   "metadata": {},
   "outputs": [
    {
     "name": "stdout",
     "output_type": "stream",
     "text": [
      "intercept: 7.032593549127695\n",
      "slope: [0.04753664]\n"
     ]
    }
   ],
   "source": [
    "print('intercept:', model_simple.intercept_)\n",
    "print('slope:', model_simple.coef_)"
   ]
  },
  {
   "cell_type": "markdown",
   "id": "e49af73a",
   "metadata": {},
   "source": [
    "# Multi-linear Regression"
   ]
  },
  {
   "cell_type": "code",
   "execution_count": 20,
   "id": "1d8a76a7",
   "metadata": {},
   "outputs": [
    {
     "name": "stdout",
     "output_type": "stream",
     "text": [
      "Intercept: 2.938889369459412\n",
      "Coefficients: [ 0.04576465  0.18853002 -0.00103749]\n"
     ]
    }
   ],
   "source": [
    "model_multiple=LinearRegression().fit(X, y)\n",
    "print(\"Intercept:\", model_multiple.intercept_)\n",
    "print(\"Coefficients:\", model_multiple.coef_)"
   ]
  },
  {
   "cell_type": "markdown",
   "id": "d560c346",
   "metadata": {},
   "source": [
    "# Evaluamos los modelos"
   ]
  },
  {
   "cell_type": "code",
   "execution_count": 25,
   "id": "a6c9f794",
   "metadata": {},
   "outputs": [],
   "source": [
    "predictions_simple2 = model_simple.predict(xradio)"
   ]
  },
  {
   "cell_type": "code",
   "execution_count": 26,
   "id": "7a591239",
   "metadata": {},
   "outputs": [
    {
     "name": "stdout",
     "output_type": "stream",
     "text": [
      "Mean Squared Error(MSE): 57.9805391540245\n",
      "Root Mean Squared Error(RMSE): 7.61449533153869\n",
      "R2-Square: -1.140629391209702\n"
     ]
    }
   ],
   "source": [
    "### al haberlo calculado una vez previamente de forma simple generamos un modelo sobre entrenado y estos datos no son resultantes\n",
    "from sklearn.metrics import mean_squared_error\n",
    "from sklearn.metrics import r2_score\n",
    " \n",
    "# Evaluate mean squared error\n",
    "print(\"Mean Squared Error(MSE):\", mean_squared_error(y, predictions_simple2))  \n",
    " \n",
    "# Evaluate root mean squared error\n",
    "print(\"Root Mean Squared Error(RMSE):\", np.sqrt(mean_squared_error(y, predictions_simple2)))\n",
    " \n",
    "# Evaluate R2-square\n",
    "print(\"R2-Square:\",r2_score(y, predictions_simple2))"
   ]
  },
  {
   "cell_type": "markdown",
   "id": "62d78ce0",
   "metadata": {},
   "source": [
    "La radio no es suficiente para predecir las ventas que tendrás, necesitas más variables. "
   ]
  },
  {
   "cell_type": "code",
   "execution_count": 23,
   "id": "2069e2fe",
   "metadata": {},
   "outputs": [],
   "source": [
    "predictions_multiple = model_multiple.predict(X)"
   ]
  },
  {
   "cell_type": "code",
   "execution_count": 24,
   "id": "ca0765ed",
   "metadata": {},
   "outputs": [
    {
     "name": "stdout",
     "output_type": "stream",
     "text": [
      "Mean Squared Error(MSE): 2.784126314510936\n",
      "Root Mean Squared Error(RMSE): 1.6685701407225697\n",
      "R2-Square: 0.8972106381789522\n"
     ]
    }
   ],
   "source": [
    "print(\"Mean Squared Error(MSE):\", mean_squared_error(y, predictions_multiple))  \n",
    " \n",
    "# Evaluate root mean squared error\n",
    "print(\"Root Mean Squared Error(RMSE):\", np.sqrt(mean_squared_error(y, predictions_multiple)))\n",
    " \n",
    "# Evaluate R2-square\n",
    "print(\"R2-Square:\",r2_score(y, predictions_multiple))"
   ]
  },
  {
   "cell_type": "code",
   "execution_count": null,
   "id": "6e3bbbbf",
   "metadata": {},
   "outputs": [],
   "source": []
  }
 ],
 "metadata": {
  "kernelspec": {
   "display_name": "Python 3 (ipykernel)",
   "language": "python",
   "name": "python3"
  },
  "language_info": {
   "codemirror_mode": {
    "name": "ipython",
    "version": 3
   },
   "file_extension": ".py",
   "mimetype": "text/x-python",
   "name": "python",
   "nbconvert_exporter": "python",
   "pygments_lexer": "ipython3",
   "version": "3.10.9"
  }
 },
 "nbformat": 4,
 "nbformat_minor": 5
}
