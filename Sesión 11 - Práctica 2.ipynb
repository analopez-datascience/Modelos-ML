{
 "cells": [
  {
   "cell_type": "markdown",
   "id": "8e57d679",
   "metadata": {},
   "source": [
    "## Cambiar de carpeta\n",
    "\n",
    "Para movernos por las carpetas de nuestro sistema para acceder a diferentes ficheros guardados en diferentes carpetas.\n",
    "\n",
    "En MAC la barra será /"
   ]
  },
  {
   "cell_type": "code",
   "execution_count": 14,
   "id": "b875e619",
   "metadata": {},
   "outputs": [
    {
     "data": {
      "text/plain": [
       "'/Users/ana/Desktop/CE Big Data ML '"
      ]
     },
     "execution_count": 14,
     "metadata": {},
     "output_type": "execute_result"
    }
   ],
   "source": [
    "\n",
    "import os\n",
    "os.getcwd()"
   ]
  },
  {
   "cell_type": "code",
   "execution_count": 10,
   "id": "9cdbfba4",
   "metadata": {},
   "outputs": [],
   "source": [
    "os.chdir('../ana')"
   ]
  },
  {
   "cell_type": "code",
   "execution_count": 11,
   "id": "dde97621",
   "metadata": {},
   "outputs": [
    {
     "data": {
      "text/plain": [
       "'/Users/ana/Desktop/ana'"
      ]
     },
     "execution_count": 11,
     "metadata": {},
     "output_type": "execute_result"
    }
   ],
   "source": [
    "os.getcwd()"
   ]
  },
  {
   "cell_type": "code",
   "execution_count": 12,
   "id": "e716b6e7",
   "metadata": {},
   "outputs": [],
   "source": [
    "os.chdir('../CE Big Data ML ')"
   ]
  },
  {
   "cell_type": "code",
   "execution_count": 13,
   "id": "fc528bb3",
   "metadata": {},
   "outputs": [
    {
     "data": {
      "text/plain": [
       "'/Users/ana/Desktop/CE Big Data ML '"
      ]
     },
     "execution_count": 13,
     "metadata": {},
     "output_type": "execute_result"
    }
   ],
   "source": [
    "os.getcwd()"
   ]
  },
  {
   "cell_type": "code",
   "execution_count": null,
   "id": "feadcba2",
   "metadata": {},
   "outputs": [],
   "source": []
  }
 ],
 "metadata": {
  "kernelspec": {
   "display_name": "Python 3 (ipykernel)",
   "language": "python",
   "name": "python3"
  },
  "language_info": {
   "codemirror_mode": {
    "name": "ipython",
    "version": 3
   },
   "file_extension": ".py",
   "mimetype": "text/x-python",
   "name": "python",
   "nbconvert_exporter": "python",
   "pygments_lexer": "ipython3",
   "version": "3.10.9"
  }
 },
 "nbformat": 4,
 "nbformat_minor": 5
}
